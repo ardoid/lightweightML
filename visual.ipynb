{
 "metadata": {
  "name": ""
 },
 "nbformat": 3,
 "nbformat_minor": 0,
 "worksheets": [
  {
   "cells": [
    {
     "cell_type": "code",
     "collapsed": false,
     "input": [
      "import json\n",
      "from numpy import *\n",
      "import matplotlib as mp\n",
      "import matplotlib.pyplot as plt\n",
      "\n",
      "def pca(dataMat, topNfeat=9999999):\n",
      "    meanVals = mean(dataMat, axis=0)\n",
      "    meanRemoved = dataMat - meanVals\n",
      "    covMat = cov(meanRemoved, rowvar=0)\n",
      "    eigVals,eigVects = linalg.eig(mat(covMat))\n",
      "    eigValInd = argsort(eigVals)\n",
      "    eigValInd = eigValInd[:-(topNfeat+1):-1]\n",
      "    redEigVects = eigVects[:,eigValInd]\n",
      "    lowDDataMat = meanRemoved * redEigVects\n",
      "    #reconMat = (lowDDataMat * redEigVects.T) + meanVals\n",
      "    return lowDDataMat #, reconMat\n",
      "\n",
      "lowD=[]\n",
      "for i in range(1,6):\n",
      "    fname='o'+str(i)+'.txt'\n",
      "    inp=open(fname)\n",
      "    flen=len(inp.readlines())\n",
      "    inputMat=zeros((flen,12))\n",
      "    classVector=[]\n",
      "    inp=open(fname)\n",
      "    for index in (0,flen):\n",
      "        line=inp.readline()\n",
      "        inputMat[index:]=json.loads(line)[5:-2]\n",
      "    inputArr=array(inputMat)\n",
      "    lowD.append(pca(inputMat, 2))\n",
      "    print shape(lowD[i-1])\n",
      "plt.scatter(lowD[0][:,0].flatten().A[0], lowD[0][:,1].flatten().A[0], marker='^', s=60, c='blue')\n",
      "plt.scatter(lowD[1][:,0].flatten().A[0], lowD[1][:,1].flatten().A[0], marker='o', s=100, c='red')\n",
      "plt.scatter(lowD[2][:,0].flatten().A[0], lowD[2][:,1].flatten().A[0], marker='o', s=60, c='blue')\n",
      "plt.scatter(lowD[3][:,0].flatten().A[0], lowD[3][:,1].flatten().A[0], marker='^', s=60, c='blue')\n",
      "plt.scatter(lowD[4][:,0].flatten().A[0], lowD[4][:,1].flatten().A[0], marker='^', s=60, c='blue')\n",
      "plt.show()\n"
     ],
     "language": "python",
     "metadata": {},
     "outputs": [
      {
       "output_type": "stream",
       "stream": "stdout",
       "text": [
        "(50630, 2)\n",
        "(11826, 2)\n",
        "(47369, 2)"
       ]
      },
      {
       "output_type": "stream",
       "stream": "stdout",
       "text": [
        "\n",
        "(12413, 2)\n",
        "(43389, 2)"
       ]
      },
      {
       "output_type": "stream",
       "stream": "stdout",
       "text": [
        "\n"
       ]
      }
     ],
     "prompt_number": 1
    },
    {
     "cell_type": "code",
     "collapsed": false,
     "input": [],
     "language": "python",
     "metadata": {},
     "outputs": []
    }
   ],
   "metadata": {}
  }
 ]
}