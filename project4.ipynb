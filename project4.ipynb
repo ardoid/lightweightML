{
 "metadata": {
  "name": ""
 },
 "nbformat": 3,
 "nbformat_minor": 0,
 "worksheets": [
  {
   "cells": [
    {
     "cell_type": "heading",
     "level": 1,
     "metadata": {},
     "source": []
    },
    {
     "cell_type": "code",
     "collapsed": false,
     "input": [
      "import json\n",
      "from numpy import *\n",
      "import matplotlib as mp\n",
      "import matplotlib.pyplot as plt\n",
      "# from matplotlib.mlab import PCA\n",
      "\n",
      "def pca(dataMat, topNfeat=9999999):\n",
      "    meanVals = mean(dataMat, axis=0)\n",
      "    meanRemoved = dataMat - meanVals\n",
      "    covMat = cov(meanRemoved, rowvar=0)\n",
      "    eigVals,eigVects = linalg.eig(mat(covMat))\n",
      "    eigValInd = argsort(eigVals)\n",
      "    eigValInd = eigValInd[:-(topNfeat+1):-1]\n",
      "    redEigVects = eigVects[:,eigValInd]\n",
      "    lowDDataMat = meanRemoved * redEigVects\n",
      "    #reconMat = (lowDDataMat * redEigVects.T) + meanVals\n",
      "    return lowDDataMat #, reconMat\n",
      "\n",
      "lowD=[]\n",
      "for i in range(1,6):\n",
      "    fname='o'+str(i)+'.txt'\n",
      "    inp=open(fname)\n",
      "    flen=len(inp.readlines())\n",
      "    inputMat=zeros((flen,15))\n",
      "    classVector=[]\n",
      "    inp=open(fname)\n",
      "    for index in (0,flen):\n",
      "        line=inp.readline()\n",
      "        print line\n",
      "        inputMat[index:]=json.loads(line)[5:-2]\n",
      "    inputArr=array(inputMat)\n",
      "#     print inputArr\n",
      "    lowD.append(pca(inputMat, 2))\n",
      "#     print lowD\n",
      "    # print reconMat\n",
      "    print shape(lowD[i-1])\n",
      "# d = lowD[0:100,:]\n",
      "# mp.scatter(mypca.\n",
      "# fig = plt.figure()\n",
      "# ax=fig.add_subplot(111)\n",
      "# ax.scatter(dataMat[:,0].flatten().A[0], dataMat[:,1].flatten().A[0], marker='^', s=90)\n",
      "plt.scatter(lowD[2][:,0].flatten().A[0], lowD[2][:,1].flatten().A[0], marker='o', s=20, c='red')\n",
      "# plt.scatter(lowD[1][:,0].flatten().A[0], lowD[1][:,1].flatten().A[0], marker='o', s=20, c='blue')\n",
      "plt.show()\n",
      "# ax.scatter(reconMat[:,0].flatten().A[0], reconMat[:,1].flatten().A[0], marker='o', s=50, c='red')"
     ],
     "language": "python",
     "metadata": {},
     "outputs": [
      {
       "ename": "KeyboardInterrupt",
       "evalue": "",
       "output_type": "pyerr",
       "traceback": [
        "\u001b[0;31m---------------------------------------------------------------------------\u001b[0m\n\u001b[0;31mKeyboardInterrupt\u001b[0m                         Traceback (most recent call last)",
        "\u001b[0;32m/Users/ardoseptama/anaconda/lib/python2.7/site-packages/matplotlib/backend_bases.pyc\u001b[0m in \u001b[0;36mmotion_notify_event\u001b[0;34m(self, x, y, guiEvent)\u001b[0m\n\u001b[1;32m   1809\u001b[0m         \u001b[0mself\u001b[0m\u001b[0;34m.\u001b[0m\u001b[0m_button\u001b[0m \u001b[0;34m=\u001b[0m \u001b[0mNone\u001b[0m\u001b[0;34m\u001b[0m\u001b[0m\n\u001b[1;32m   1810\u001b[0m \u001b[0;34m\u001b[0m\u001b[0m\n\u001b[0;32m-> 1811\u001b[0;31m     \u001b[0;32mdef\u001b[0m \u001b[0mmotion_notify_event\u001b[0m\u001b[0;34m(\u001b[0m\u001b[0mself\u001b[0m\u001b[0;34m,\u001b[0m \u001b[0mx\u001b[0m\u001b[0;34m,\u001b[0m \u001b[0my\u001b[0m\u001b[0;34m,\u001b[0m \u001b[0mguiEvent\u001b[0m\u001b[0;34m=\u001b[0m\u001b[0mNone\u001b[0m\u001b[0;34m)\u001b[0m\u001b[0;34m:\u001b[0m\u001b[0;34m\u001b[0m\u001b[0m\n\u001b[0m\u001b[1;32m   1812\u001b[0m         \"\"\"\n\u001b[1;32m   1813\u001b[0m         \u001b[0mBackend\u001b[0m \u001b[0mderived\u001b[0m \u001b[0mclasses\u001b[0m \u001b[0mshould\u001b[0m \u001b[0mcall\u001b[0m \u001b[0mthis\u001b[0m \u001b[0mfunction\u001b[0m \u001b[0mon\u001b[0m \u001b[0many\u001b[0m\u001b[0;34m\u001b[0m\u001b[0m\n",
        "\u001b[0;31mKeyboardInterrupt\u001b[0m: "
       ]
      },
      {
       "ename": "KeyboardInterrupt",
       "evalue": "",
       "output_type": "pyerr",
       "traceback": [
        "\u001b[0;31m---------------------------------------------------------------------------\u001b[0m\n\u001b[0;31mKeyboardInterrupt\u001b[0m                         Traceback (most recent call last)",
        "\u001b[0;32m/Users/ardoseptama/anaconda/lib/python2.7/site-packages/matplotlib/backend_bases.pyc\u001b[0m in \u001b[0;36mmotion_notify_event\u001b[0;34m(self, x, y, guiEvent)\u001b[0m\n\u001b[1;32m   1809\u001b[0m         \u001b[0mself\u001b[0m\u001b[0;34m.\u001b[0m\u001b[0m_button\u001b[0m \u001b[0;34m=\u001b[0m \u001b[0mNone\u001b[0m\u001b[0;34m\u001b[0m\u001b[0m\n\u001b[1;32m   1810\u001b[0m \u001b[0;34m\u001b[0m\u001b[0m\n\u001b[0;32m-> 1811\u001b[0;31m     \u001b[0;32mdef\u001b[0m \u001b[0mmotion_notify_event\u001b[0m\u001b[0;34m(\u001b[0m\u001b[0mself\u001b[0m\u001b[0;34m,\u001b[0m \u001b[0mx\u001b[0m\u001b[0;34m,\u001b[0m \u001b[0my\u001b[0m\u001b[0;34m,\u001b[0m \u001b[0mguiEvent\u001b[0m\u001b[0;34m=\u001b[0m\u001b[0mNone\u001b[0m\u001b[0;34m)\u001b[0m\u001b[0;34m:\u001b[0m\u001b[0;34m\u001b[0m\u001b[0m\n\u001b[0m\u001b[1;32m   1812\u001b[0m         \"\"\"\n\u001b[1;32m   1813\u001b[0m         \u001b[0mBackend\u001b[0m \u001b[0mderived\u001b[0m \u001b[0mclasses\u001b[0m \u001b[0mshould\u001b[0m \u001b[0mcall\u001b[0m \u001b[0mthis\u001b[0m \u001b[0mfunction\u001b[0m \u001b[0mon\u001b[0m \u001b[0many\u001b[0m\u001b[0;34m\u001b[0m\u001b[0m\n",
        "\u001b[0;31mKeyboardInterrupt\u001b[0m: "
       ]
      },
      {
       "output_type": "stream",
       "stream": "stdout",
       "text": [
        "\n",
        "(43389, 2)\n"
       ]
      }
     ]
    },
    {
     "cell_type": "code",
     "collapsed": false,
     "input": [],
     "language": "python",
     "metadata": {},
     "outputs": []
    },
    {
     "cell_type": "code",
     "collapsed": false,
     "input": [],
     "language": "python",
     "metadata": {},
     "outputs": []
    },
    {
     "cell_type": "code",
     "collapsed": false,
     "input": [],
     "language": "python",
     "metadata": {},
     "outputs": []
    },
    {
     "cell_type": "code",
     "collapsed": false,
     "input": [],
     "language": "python",
     "metadata": {},
     "outputs": []
    }
   ],
   "metadata": {}
  }
 ]
}