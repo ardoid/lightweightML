{
 "metadata": {
  "name": ""
 },
 "nbformat": 3,
 "nbformat_minor": 0,
 "worksheets": [
  {
   "cells": [
    {
     "cell_type": "heading",
     "level": 1,
     "metadata": {},
     "source": []
    },
    {
     "cell_type": "code",
     "collapsed": false,
     "input": [
      "import json\n",
      "from numpy import *\n",
      "import matplotlib as mp\n",
      "import matplotlib.pyplot as plt\n",
      "# from matplotlib.mlab import PCA\n",
      "\n",
      "def pca(dataMat, topNfeat=9999999):\n",
      "    meanVals = mean(dataMat, axis=0)\n",
      "    meanRemoved = dataMat - meanVals\n",
      "    covMat = cov(meanRemoved, rowvar=0)\n",
      "    eigVals,eigVects = linalg.eig(mat(covMat))\n",
      "    eigValInd = argsort(eigVals)\n",
      "    eigValInd = eigValInd[:-(topNfeat+1):-1]\n",
      "    redEigVects = eigVects[:,eigValInd]\n",
      "    lowDDataMat = meanRemoved * redEigVects\n",
      "    reconMat = (lowDDataMat * redEigVects.T) + meanVals\n",
      "    return lowDDataMat, reconMat\n",
      "\n",
      "\n",
      "inp=open('fn1_3.txt')\n",
      "flen=len(inp.readlines())\n",
      "inputMat=zeros((flen,16))\n",
      "classVector=[]\n",
      "inp=open('fn1_3.txt')\n",
      "for index in (0,flen):\n",
      "    line=inp.readline()\n",
      "    inputMat[index:]=json.loads(line)[0:-2]\n",
      "inputArr=array(inputMat)\n",
      "print inputArr\n",
      "# mypca=PCA(inputArr)\n",
      "# print mypca\n",
      "lowD, reconMat=pca(inputMat, 2)\n",
      "print lowD\n",
      "print reconMat\n",
      "print shape(lowD)\n",
      "print shape(reconMat)\n",
      "d = lowD[0:100,:]\n",
      "# mp.scatter(mypca.\n",
      "# fig = plt.figure()\n",
      "# ax=fig.add_subplot(111)\n",
      "# ax.scatter(dataMat[:,0].flatten().A[0], dataMat[:,1].flatten().A[0], marker='^', s=90)\n",
      "plt.scatter(lowD[:,0].flatten().A[0], lowD[:,1].flatten().A[0], marker='o', s=20, c='red')\n",
      "plt.show()\n",
      "# ax.scatter(reconMat[:,0].flatten().A[0], reconMat[:,1].flatten().A[0], marker='o', s=50, c='red')"
     ],
     "language": "python",
     "metadata": {},
     "outputs": [
      {
       "output_type": "stream",
       "stream": "stdout",
       "text": [
        "[[ 0.          0.38297872  0.30769231 ...,  0.51124145  0.79970972\n",
        "   0.68954248]\n",
        " [ 0.          0.38297872  0.30769231 ...,  0.51124145  0.79970972\n",
        "   0.68954248]\n",
        " [ 0.          0.38297872  0.30769231 ...,  0.51124145  0.79970972\n",
        "   0.68954248]\n",
        " ..., \n",
        " [ 0.          0.38297872  0.30769231 ...,  0.51124145  0.79970972\n",
        "   0.68954248]\n",
        " [ 0.          0.38297872  0.30769231 ...,  0.51124145  0.79970972\n",
        "   0.68954248]\n",
        " [ 0.          0.38297872  0.30769231 ...,  0.51124145  0.79970972\n",
        "   0.68954248]]\n",
        "[[ -2.91988655e-14   1.10800258e-13]\n",
        " [ -2.91988655e-14   1.10800258e-13]\n",
        " [ -2.91988655e-14   1.10800258e-13]\n",
        " ..., \n",
        " [ -2.91988655e-14   1.10800258e-13]\n",
        " [ -2.91988655e-14   1.10800258e-13]\n",
        " [ -2.91988655e-14   1.10800258e-13]]\n",
        "[[ 0.          0.38297872  0.30769231 ...,  0.51124145  0.79970972\n",
        "   0.68954248]\n",
        " [ 0.          0.38297872  0.30769231 ...,  0.51124145  0.79970972\n",
        "   0.68954248]\n",
        " [ 0.          0.38297872  0.30769231 ...,  0.51124145  0.79970972\n",
        "   0.68954248]\n",
        " ..., \n",
        " [ 0.          0.38297872  0.30769231 ...,  0.51124145  0.79970972\n",
        "   0.68954248]\n",
        " [ 0.          0.38297872  0.30769231 ...,  0.51124145  0.79970972\n",
        "   0.68954248]\n",
        " [ 0.          0.38297872  0.30769231 ...,  0.51124145  0.79970972\n",
        "   0.68954248]]\n",
        "(5065, 2)\n",
        "(5065, 16)\n"
       ]
      }
     ],
     "prompt_number": 1
    },
    {
     "cell_type": "code",
     "collapsed": false,
     "input": [],
     "language": "python",
     "metadata": {},
     "outputs": [],
     "prompt_number": 2
    },
    {
     "cell_type": "code",
     "collapsed": false,
     "input": [],
     "language": "python",
     "metadata": {},
     "outputs": []
    },
    {
     "cell_type": "code",
     "collapsed": false,
     "input": [],
     "language": "python",
     "metadata": {},
     "outputs": []
    }
   ],
   "metadata": {}
  }
 ]
}